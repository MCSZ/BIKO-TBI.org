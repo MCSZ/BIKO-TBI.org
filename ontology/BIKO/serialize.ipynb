{
 "cells": [
  {
   "cell_type": "code",
   "execution_count": 16,
   "metadata": {},
   "outputs": [],
   "source": [
    "# !pip install rdflib owlready2"
   ]
  },
  {
   "cell_type": "code",
   "execution_count": 5,
   "metadata": {},
   "outputs": [],
   "source": [
    "import rdflib\n",
    "from owlready2 import get_ontology"
   ]
  },
  {
   "cell_type": "code",
   "execution_count": 9,
   "metadata": {},
   "outputs": [
    {
     "data": {
      "text/plain": [
       "<Graph identifier=N2baab0da78ec4214bf2dccc6a671f3e1 (<class 'rdflib.graph.Graph'>)>"
      ]
     },
     "execution_count": 9,
     "metadata": {},
     "output_type": "execute_result"
    }
   ],
   "source": [
    "rdflib.Graph().parse('biko_10_20_22_verC.ttl', format='ttl').serialize('biko_10_20_22_verC.ttl', format='nifttl')"
   ]
  },
  {
   "cell_type": "markdown",
   "metadata": {},
   "source": [
    "# Convert OWL/XML to RDF/XML to RDF/Turtle "
   ]
  },
  {
   "cell_type": "code",
   "execution_count": 14,
   "metadata": {},
   "outputs": [
    {
     "data": {
      "text/plain": [
       "<Graph identifier=N54e9f45bacaf4cbca7129ebda4fd1f2f (<class 'rdflib.graph.Graph'>)>"
      ]
     },
     "execution_count": 14,
     "metadata": {},
     "output_type": "execute_result"
    }
   ],
   "source": [
    "onto = get_ontology('biko_102223_verD.owl').load()\n",
    "onto.save(file=\"biko_102223_verD.xrdf\", format = \"rdfxml\")\n",
    "rdflib.Graph().parse('biko_102223_verD.xrdf', format='xml').serialize('biko_102223_verD.ttl', format='nifttl')"
   ]
  }
 ],
 "metadata": {
  "kernelspec": {
   "display_name": "Python 3.10.5 ('fdilabs')",
   "language": "python",
   "name": "python3"
  },
  "language_info": {
   "codemirror_mode": {
    "name": "ipython",
    "version": 3
   },
   "file_extension": ".py",
   "mimetype": "text/x-python",
   "name": "python",
   "nbconvert_exporter": "python",
   "pygments_lexer": "ipython3",
   "version": "3.10.5"
  },
  "orig_nbformat": 4,
  "vscode": {
   "interpreter": {
    "hash": "e0214391d427705aecb80f30ce780612985026dd763128e34ad969ce99208121"
   }
  }
 },
 "nbformat": 4,
 "nbformat_minor": 2
}
